{
 "cells": [
  {
   "cell_type": "code",
   "execution_count": 1,
   "metadata": {},
   "outputs": [],
   "source": [
    "import sys\n",
    "sys.path.append(\"../backtest\")\n",
    "from backtest import Backtest"
   ]
  },
  {
   "cell_type": "code",
   "execution_count": 2,
   "metadata": {},
   "outputs": [],
   "source": [
    "data_dir = \"../data\"\n",
    "backtest_codes, backtest_price = Backtest.prepare_data(data_dir)"
   ]
  },
  {
   "cell_type": "code",
   "execution_count": 3,
   "metadata": {},
   "outputs": [],
   "source": [
    "portofolio_file_path = \"../chapter06-tutorial-1.csv\"\n",
    "df_submit = Backtest.load_submit(portofolio_file_path)"
   ]
  },
  {
   "cell_type": "code",
   "execution_count": 4,
   "metadata": {},
   "outputs": [
    {
     "data": {
      "application/vnd.jupyter.widget-view+json": {
       "model_id": "e67d8649060b412da1c915bc9780a8fc",
       "version_major": 2,
       "version_minor": 0
      },
      "text/plain": [
       "HBox(children=(IntProgress(value=0, max=1), HTML(value='')))"
      ]
     },
     "metadata": {},
     "output_type": "display_data"
    },
    {
     "name": "stdout",
     "output_type": "stream",
     "text": [
      "\n"
     ]
    }
   ],
   "source": [
    "df_results, df_stocks = Backtest.run(df_submit, backtest_codes, backtest_price)"
   ]
  },
  {
   "cell_type": "code",
   "execution_count": 5,
   "metadata": {},
   "outputs": [
    {
     "data": {
      "text/html": [
       "<div>\n",
       "<style scoped>\n",
       "    .dataframe tbody tr th:only-of-type {\n",
       "        vertical-align: middle;\n",
       "    }\n",
       "\n",
       "    .dataframe tbody tr th {\n",
       "        vertical-align: top;\n",
       "    }\n",
       "\n",
       "    .dataframe thead th {\n",
       "        text-align: right;\n",
       "    }\n",
       "</style>\n",
       "<table border=\"1\" class=\"dataframe\">\n",
       "  <thead>\n",
       "    <tr style=\"text-align: right;\">\n",
       "      <th></th>\n",
       "      <th>day_1</th>\n",
       "      <th>day_2</th>\n",
       "      <th>day_3</th>\n",
       "      <th>day_4</th>\n",
       "      <th>day_5</th>\n",
       "      <th>date</th>\n",
       "      <th>holiday</th>\n",
       "      <th>bought</th>\n",
       "      <th>cash</th>\n",
       "      <th>week_pl</th>\n",
       "      <th>...</th>\n",
       "      <th>day_2_pl</th>\n",
       "      <th>day_3_return</th>\n",
       "      <th>day_3_pl</th>\n",
       "      <th>day_4_return</th>\n",
       "      <th>day_4_pl</th>\n",
       "      <th>day_5_return</th>\n",
       "      <th>day_5_pl</th>\n",
       "      <th>exp</th>\n",
       "      <th>std</th>\n",
       "      <th>sharp</th>\n",
       "    </tr>\n",
       "  </thead>\n",
       "  <tbody>\n",
       "    <tr>\n",
       "      <th>0</th>\n",
       "      <td>1000011.0</td>\n",
       "      <td>1015693.0</td>\n",
       "      <td>1024074.0</td>\n",
       "      <td>1024074.0</td>\n",
       "      <td>1024074.0</td>\n",
       "      <td>2020-12-28</td>\n",
       "      <td>[3, 4]</td>\n",
       "      <td>547626.0</td>\n",
       "      <td>452374.0</td>\n",
       "      <td>24074.0</td>\n",
       "      <td>...</td>\n",
       "      <td>15682.0</td>\n",
       "      <td>0.825151</td>\n",
       "      <td>8381.0</td>\n",
       "      <td>0.0</td>\n",
       "      <td>0.0</td>\n",
       "      <td>0.0</td>\n",
       "      <td>0.0</td>\n",
       "      <td>0.798145</td>\n",
       "      <td>0.78389</td>\n",
       "      <td>1.018184</td>\n",
       "    </tr>\n",
       "  </tbody>\n",
       "</table>\n",
       "<p>1 rows × 24 columns</p>\n",
       "</div>"
      ],
      "text/plain": [
       "       day_1      day_2      day_3      day_4      day_5       date holiday  \\\n",
       "0  1000011.0  1015693.0  1024074.0  1024074.0  1024074.0 2020-12-28  [3, 4]   \n",
       "\n",
       "     bought      cash  week_pl  ...  day_2_pl  day_3_return  day_3_pl  \\\n",
       "0  547626.0  452374.0  24074.0  ...   15682.0      0.825151    8381.0   \n",
       "\n",
       "   day_4_return  day_4_pl  day_5_return  day_5_pl       exp      std     sharp  \n",
       "0           0.0       0.0           0.0       0.0  0.798145  0.78389  1.018184  \n",
       "\n",
       "[1 rows x 24 columns]"
      ]
     },
     "execution_count": 5,
     "metadata": {},
     "output_type": "execute_result"
    }
   ],
   "source": [
    "df_results.head()"
   ]
  },
  {
   "cell_type": "code",
   "execution_count": 6,
   "metadata": {},
   "outputs": [
    {
     "name": "stdout",
     "output_type": "stream",
     "text": [
      "<class 'pandas.core.frame.DataFrame'>\n",
      "RangeIndex: 1 entries, 0 to 0\n",
      "Data columns (total 24 columns):\n",
      " #   Column        Non-Null Count  Dtype         \n",
      "---  ------        --------------  -----         \n",
      " 0   day_1         1 non-null      float64       \n",
      " 1   day_2         1 non-null      float64       \n",
      " 2   day_3         1 non-null      float64       \n",
      " 3   day_4         1 non-null      float64       \n",
      " 4   day_5         1 non-null      float64       \n",
      " 5   date          1 non-null      datetime64[ns]\n",
      " 6   holiday       1 non-null      object        \n",
      " 7   bought        1 non-null      float64       \n",
      " 8   cash          1 non-null      float64       \n",
      " 9   week_pl       1 non-null      float64       \n",
      " 10  week_return   1 non-null      float64       \n",
      " 11  day_1_return  1 non-null      float64       \n",
      " 12  day_1_pl      1 non-null      float64       \n",
      " 13  day_2_return  1 non-null      float64       \n",
      " 14  day_2_pl      1 non-null      float64       \n",
      " 15  day_3_return  1 non-null      float64       \n",
      " 16  day_3_pl      1 non-null      float64       \n",
      " 17  day_4_return  1 non-null      float64       \n",
      " 18  day_4_pl      1 non-null      float64       \n",
      " 19  day_5_return  1 non-null      float64       \n",
      " 20  day_5_pl      1 non-null      float64       \n",
      " 21  exp           1 non-null      float64       \n",
      " 22  std           1 non-null      float64       \n",
      " 23  sharp         1 non-null      float64       \n",
      "dtypes: datetime64[ns](1), float64(22), object(1)\n",
      "memory usage: 320.0+ bytes\n"
     ]
    }
   ],
   "source": [
    "df_results.info()"
   ]
  },
  {
   "cell_type": "code",
   "execution_count": 7,
   "metadata": {},
   "outputs": [
    {
     "data": {
      "text/html": [
       "<div>\n",
       "<style scoped>\n",
       "    .dataframe tbody tr th:only-of-type {\n",
       "        vertical-align: middle;\n",
       "    }\n",
       "\n",
       "    .dataframe tbody tr th {\n",
       "        vertical-align: top;\n",
       "    }\n",
       "\n",
       "    .dataframe thead th {\n",
       "        text-align: right;\n",
       "    }\n",
       "</style>\n",
       "<table border=\"1\" class=\"dataframe\">\n",
       "  <thead>\n",
       "    <tr style=\"text-align: right;\">\n",
       "      <th></th>\n",
       "      <th>date</th>\n",
       "      <th>Local Code</th>\n",
       "      <th>budget</th>\n",
       "      <th>n</th>\n",
       "      <th>entry</th>\n",
       "      <th>day_1</th>\n",
       "      <th>day_2</th>\n",
       "      <th>day_3</th>\n",
       "      <th>day_4</th>\n",
       "      <th>day_5</th>\n",
       "      <th>bought</th>\n",
       "      <th>actual</th>\n",
       "    </tr>\n",
       "  </thead>\n",
       "  <tbody>\n",
       "    <tr>\n",
       "      <th>0</th>\n",
       "      <td>2020-12-28</td>\n",
       "      <td>4165</td>\n",
       "      <td>20000</td>\n",
       "      <td>0</td>\n",
       "      <td>3500.0</td>\n",
       "      <td>3740.0</td>\n",
       "      <td>3670.0</td>\n",
       "      <td>3715.0</td>\n",
       "      <td>0.0</td>\n",
       "      <td>0.0</td>\n",
       "      <td>17500.0</td>\n",
       "      <td>5.0</td>\n",
       "    </tr>\n",
       "    <tr>\n",
       "      <th>1</th>\n",
       "      <td>2020-12-28</td>\n",
       "      <td>7694</td>\n",
       "      <td>20000</td>\n",
       "      <td>1</td>\n",
       "      <td>4210.0</td>\n",
       "      <td>4630.0</td>\n",
       "      <td>5040.0</td>\n",
       "      <td>5110.0</td>\n",
       "      <td>0.0</td>\n",
       "      <td>0.0</td>\n",
       "      <td>16840.0</td>\n",
       "      <td>4.0</td>\n",
       "    </tr>\n",
       "    <tr>\n",
       "      <th>2</th>\n",
       "      <td>2020-12-28</td>\n",
       "      <td>4167</td>\n",
       "      <td>20000</td>\n",
       "      <td>2</td>\n",
       "      <td>5300.0</td>\n",
       "      <td>6280.0</td>\n",
       "      <td>6330.0</td>\n",
       "      <td>7330.0</td>\n",
       "      <td>0.0</td>\n",
       "      <td>0.0</td>\n",
       "      <td>15900.0</td>\n",
       "      <td>3.0</td>\n",
       "    </tr>\n",
       "    <tr>\n",
       "      <th>3</th>\n",
       "      <td>2020-12-28</td>\n",
       "      <td>3677</td>\n",
       "      <td>20000</td>\n",
       "      <td>3</td>\n",
       "      <td>1055.0</td>\n",
       "      <td>1034.0</td>\n",
       "      <td>1075.0</td>\n",
       "      <td>1069.0</td>\n",
       "      <td>0.0</td>\n",
       "      <td>0.0</td>\n",
       "      <td>18990.0</td>\n",
       "      <td>18.0</td>\n",
       "    </tr>\n",
       "    <tr>\n",
       "      <th>4</th>\n",
       "      <td>2020-12-28</td>\n",
       "      <td>4493</td>\n",
       "      <td>20000</td>\n",
       "      <td>4</td>\n",
       "      <td>3160.0</td>\n",
       "      <td>3175.0</td>\n",
       "      <td>3395.0</td>\n",
       "      <td>3410.0</td>\n",
       "      <td>0.0</td>\n",
       "      <td>0.0</td>\n",
       "      <td>18960.0</td>\n",
       "      <td>6.0</td>\n",
       "    </tr>\n",
       "  </tbody>\n",
       "</table>\n",
       "</div>"
      ],
      "text/plain": [
       "        date  Local Code  budget  n   entry   day_1   day_2   day_3  day_4  \\\n",
       "0 2020-12-28        4165   20000  0  3500.0  3740.0  3670.0  3715.0    0.0   \n",
       "1 2020-12-28        7694   20000  1  4210.0  4630.0  5040.0  5110.0    0.0   \n",
       "2 2020-12-28        4167   20000  2  5300.0  6280.0  6330.0  7330.0    0.0   \n",
       "3 2020-12-28        3677   20000  3  1055.0  1034.0  1075.0  1069.0    0.0   \n",
       "4 2020-12-28        4493   20000  4  3160.0  3175.0  3395.0  3410.0    0.0   \n",
       "\n",
       "   day_5   bought  actual  \n",
       "0    0.0  17500.0     5.0  \n",
       "1    0.0  16840.0     4.0  \n",
       "2    0.0  15900.0     3.0  \n",
       "3    0.0  18990.0    18.0  \n",
       "4    0.0  18960.0     6.0  "
      ]
     },
     "execution_count": 7,
     "metadata": {},
     "output_type": "execute_result"
    }
   ],
   "source": [
    "df_stocks.head()"
   ]
  },
  {
   "cell_type": "code",
   "execution_count": 8,
   "metadata": {},
   "outputs": [
    {
     "name": "stdout",
     "output_type": "stream",
     "text": [
      "<class 'pandas.core.frame.DataFrame'>\n",
      "RangeIndex: 30 entries, 0 to 29\n",
      "Data columns (total 12 columns):\n",
      " #   Column      Non-Null Count  Dtype         \n",
      "---  ------      --------------  -----         \n",
      " 0   date        30 non-null     datetime64[ns]\n",
      " 1   Local Code  30 non-null     int64         \n",
      " 2   budget      30 non-null     int64         \n",
      " 3   n           30 non-null     int64         \n",
      " 4   entry       30 non-null     float64       \n",
      " 5   day_1       30 non-null     float64       \n",
      " 6   day_2       30 non-null     float64       \n",
      " 7   day_3       30 non-null     float64       \n",
      " 8   day_4       30 non-null     float64       \n",
      " 9   day_5       30 non-null     float64       \n",
      " 10  bought      30 non-null     float64       \n",
      " 11  actual      30 non-null     float64       \n",
      "dtypes: datetime64[ns](1), float64(8), int64(3)\n",
      "memory usage: 2.9 KB\n"
     ]
    }
   ],
   "source": [
    "df_stocks.info()"
   ]
  },
  {
   "cell_type": "markdown",
   "metadata": {},
   "source": [
    "参考すると良い部分\n",
    "https://japanexchangegroup.github.io/J-Quants-Tutorial/#anchor-3.6\n",
    "https://japanexchangegroup.github.io/J-Quants-Tutorial/#_%E3%83%90%E3%83%83%E3%82%AF%E3%83%86%E3%82%B9%E3%83%88"
   ]
  }
 ],
 "metadata": {
  "kernelspec": {
   "display_name": "Python 3",
   "language": "python",
   "name": "python3"
  },
  "language_info": {
   "codemirror_mode": {
    "name": "ipython",
    "version": 3
   },
   "file_extension": ".py",
   "mimetype": "text/x-python",
   "name": "python",
   "nbconvert_exporter": "python",
   "pygments_lexer": "ipython3",
   "version": "3.7.3"
  }
 },
 "nbformat": 4,
 "nbformat_minor": 2
}
